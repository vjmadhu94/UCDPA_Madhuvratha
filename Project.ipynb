{
 "cells": [
  {
   "cell_type": "code",
   "execution_count": 1,
   "id": "2fa7e801-1ed2-4793-ba1f-bdac047e19c3",
   "metadata": {},
   "outputs": [],
   "source": [
    "import pandas as pd\n",
    "import numpy as np\n",
    "import matplotlib.pyplot as plt\n",
    "import datetime as dt"
   ]
  },
  {
   "cell_type": "code",
   "execution_count": 2,
   "id": "f568bb32-55af-48aa-9cc5-df66826dff4d",
   "metadata": {},
   "outputs": [
    {
     "data": {
      "text/html": [
       "<div>\n",
       "<style scoped>\n",
       "    .dataframe tbody tr th:only-of-type {\n",
       "        vertical-align: middle;\n",
       "    }\n",
       "\n",
       "    .dataframe tbody tr th {\n",
       "        vertical-align: top;\n",
       "    }\n",
       "\n",
       "    .dataframe thead th {\n",
       "        text-align: right;\n",
       "    }\n",
       "</style>\n",
       "<table border=\"1\" class=\"dataframe\">\n",
       "  <thead>\n",
       "    <tr style=\"text-align: right;\">\n",
       "      <th></th>\n",
       "      <th>Date</th>\n",
       "      <th>High</th>\n",
       "      <th>Low</th>\n",
       "      <th>Open</th>\n",
       "      <th>Close</th>\n",
       "      <th>Volume</th>\n",
       "      <th>Adj Close</th>\n",
       "    </tr>\n",
       "  </thead>\n",
       "  <tbody>\n",
       "    <tr>\n",
       "      <th>0</th>\n",
       "      <td>2002-05-23</td>\n",
       "      <td>1.242857</td>\n",
       "      <td>1.145714</td>\n",
       "      <td>1.156429</td>\n",
       "      <td>1.196429</td>\n",
       "      <td>104790000.0</td>\n",
       "      <td>1.196429</td>\n",
       "    </tr>\n",
       "    <tr>\n",
       "      <th>1</th>\n",
       "      <td>2002-05-24</td>\n",
       "      <td>1.225000</td>\n",
       "      <td>1.197143</td>\n",
       "      <td>1.214286</td>\n",
       "      <td>1.210000</td>\n",
       "      <td>11104800.0</td>\n",
       "      <td>1.210000</td>\n",
       "    </tr>\n",
       "    <tr>\n",
       "      <th>2</th>\n",
       "      <td>2002-05-28</td>\n",
       "      <td>1.232143</td>\n",
       "      <td>1.157143</td>\n",
       "      <td>1.213571</td>\n",
       "      <td>1.157143</td>\n",
       "      <td>6609400.0</td>\n",
       "      <td>1.157143</td>\n",
       "    </tr>\n",
       "    <tr>\n",
       "      <th>3</th>\n",
       "      <td>2002-05-29</td>\n",
       "      <td>1.164286</td>\n",
       "      <td>1.085714</td>\n",
       "      <td>1.164286</td>\n",
       "      <td>1.103571</td>\n",
       "      <td>6757800.0</td>\n",
       "      <td>1.103571</td>\n",
       "    </tr>\n",
       "    <tr>\n",
       "      <th>4</th>\n",
       "      <td>2002-05-30</td>\n",
       "      <td>1.107857</td>\n",
       "      <td>1.071429</td>\n",
       "      <td>1.107857</td>\n",
       "      <td>1.071429</td>\n",
       "      <td>10154200.0</td>\n",
       "      <td>1.071429</td>\n",
       "    </tr>\n",
       "    <tr>\n",
       "      <th>...</th>\n",
       "      <td>...</td>\n",
       "      <td>...</td>\n",
       "      <td>...</td>\n",
       "      <td>...</td>\n",
       "      <td>...</td>\n",
       "      <td>...</td>\n",
       "      <td>...</td>\n",
       "    </tr>\n",
       "    <tr>\n",
       "      <th>4876</th>\n",
       "      <td>2021-10-05</td>\n",
       "      <td>640.390015</td>\n",
       "      <td>606.890015</td>\n",
       "      <td>606.940002</td>\n",
       "      <td>634.809998</td>\n",
       "      <td>9534300.0</td>\n",
       "      <td>634.809998</td>\n",
       "    </tr>\n",
       "    <tr>\n",
       "      <th>4877</th>\n",
       "      <td>2021-10-06</td>\n",
       "      <td>639.869995</td>\n",
       "      <td>626.359985</td>\n",
       "      <td>628.179993</td>\n",
       "      <td>639.099976</td>\n",
       "      <td>4580400.0</td>\n",
       "      <td>639.099976</td>\n",
       "    </tr>\n",
       "    <tr>\n",
       "      <th>4878</th>\n",
       "      <td>2021-10-07</td>\n",
       "      <td>646.840027</td>\n",
       "      <td>630.450012</td>\n",
       "      <td>642.229980</td>\n",
       "      <td>631.849976</td>\n",
       "      <td>3556900.0</td>\n",
       "      <td>631.849976</td>\n",
       "    </tr>\n",
       "    <tr>\n",
       "      <th>4879</th>\n",
       "      <td>2021-10-08</td>\n",
       "      <td>643.799988</td>\n",
       "      <td>630.859985</td>\n",
       "      <td>634.169983</td>\n",
       "      <td>632.659973</td>\n",
       "      <td>3271100.0</td>\n",
       "      <td>632.659973</td>\n",
       "    </tr>\n",
       "    <tr>\n",
       "      <th>4880</th>\n",
       "      <td>2021-10-11</td>\n",
       "      <td>639.419983</td>\n",
       "      <td>626.780029</td>\n",
       "      <td>633.200012</td>\n",
       "      <td>627.039978</td>\n",
       "      <td>2861200.0</td>\n",
       "      <td>627.039978</td>\n",
       "    </tr>\n",
       "  </tbody>\n",
       "</table>\n",
       "<p>4881 rows × 7 columns</p>\n",
       "</div>"
      ],
      "text/plain": [
       "            Date        High         Low        Open       Close       Volume  \\\n",
       "0     2002-05-23    1.242857    1.145714    1.156429    1.196429  104790000.0   \n",
       "1     2002-05-24    1.225000    1.197143    1.214286    1.210000   11104800.0   \n",
       "2     2002-05-28    1.232143    1.157143    1.213571    1.157143    6609400.0   \n",
       "3     2002-05-29    1.164286    1.085714    1.164286    1.103571    6757800.0   \n",
       "4     2002-05-30    1.107857    1.071429    1.107857    1.071429   10154200.0   \n",
       "...          ...         ...         ...         ...         ...          ...   \n",
       "4876  2021-10-05  640.390015  606.890015  606.940002  634.809998    9534300.0   \n",
       "4877  2021-10-06  639.869995  626.359985  628.179993  639.099976    4580400.0   \n",
       "4878  2021-10-07  646.840027  630.450012  642.229980  631.849976    3556900.0   \n",
       "4879  2021-10-08  643.799988  630.859985  634.169983  632.659973    3271100.0   \n",
       "4880  2021-10-11  639.419983  626.780029  633.200012  627.039978    2861200.0   \n",
       "\n",
       "       Adj Close  \n",
       "0       1.196429  \n",
       "1       1.210000  \n",
       "2       1.157143  \n",
       "3       1.103571  \n",
       "4       1.071429  \n",
       "...          ...  \n",
       "4876  634.809998  \n",
       "4877  639.099976  \n",
       "4878  631.849976  \n",
       "4879  632.659973  \n",
       "4880  627.039978  \n",
       "\n",
       "[4881 rows x 7 columns]"
      ]
     },
     "execution_count": 2,
     "metadata": {},
     "output_type": "execute_result"
    }
   ],
   "source": [
    "#load dataset\n",
    "netflix = pd.read_csv(\"netflix.csv\")\n",
    "\n",
    "#preview data\n",
    "netflix"
   ]
  },
  {
   "cell_type": "code",
   "execution_count": 3,
   "id": "7c308b5c-b608-419a-8778-a0b067daf6ac",
   "metadata": {},
   "outputs": [
    {
     "name": "stdout",
     "output_type": "stream",
     "text": [
      "<class 'pandas.core.frame.DataFrame'>\n",
      "RangeIndex: 4881 entries, 0 to 4880\n",
      "Data columns (total 7 columns):\n",
      " #   Column     Non-Null Count  Dtype  \n",
      "---  ------     --------------  -----  \n",
      " 0   Date       4881 non-null   object \n",
      " 1   High       4881 non-null   float64\n",
      " 2   Low        4881 non-null   float64\n",
      " 3   Open       4881 non-null   float64\n",
      " 4   Close      4881 non-null   float64\n",
      " 5   Volume     4881 non-null   float64\n",
      " 6   Adj Close  4881 non-null   float64\n",
      "dtypes: float64(6), object(1)\n",
      "memory usage: 267.1+ KB\n"
     ]
    }
   ],
   "source": [
    "#getting some basic details of the structure of the dataset\n",
    "netflix.info()"
   ]
  },
  {
   "cell_type": "code",
   "execution_count": 4,
   "id": "2e9fec87-85f9-4a49-af51-a21d3091a764",
   "metadata": {},
   "outputs": [
    {
     "name": "stdout",
     "output_type": "stream",
     "text": [
      "Date         0\n",
      "High         0\n",
      "Low          0\n",
      "Open         0\n",
      "Close        0\n",
      "Volume       0\n",
      "Adj Close    0\n",
      "dtype: int64\n"
     ]
    }
   ],
   "source": [
    "#Checking for any missing values\n",
    "missing_values_count = netflix.isnull().sum()\n",
    "print(missing_values_count)"
   ]
  },
  {
   "cell_type": "code",
   "execution_count": 5,
   "id": "38106fc7-f404-43fd-990c-45ef0c22bda6",
   "metadata": {},
   "outputs": [
    {
     "name": "stdout",
     "output_type": "stream",
     "text": [
      "(4881, 7) (4881, 7)\n",
      "(4881, 7) (4881, 7)\n",
      "            Date        High         Low        Open       Close       Volume  \\\n",
      "0     2002-05-23    1.242857    1.145714    1.156429    1.196429  104790000.0   \n",
      "1     2002-05-24    1.225000    1.197143    1.214286    1.210000   11104800.0   \n",
      "2     2002-05-28    1.232143    1.157143    1.213571    1.157143    6609400.0   \n",
      "3     2002-05-29    1.164286    1.085714    1.164286    1.103571    6757800.0   \n",
      "4     2002-05-30    1.107857    1.071429    1.107857    1.071429   10154200.0   \n",
      "...          ...         ...         ...         ...         ...          ...   \n",
      "4876  2021-10-05  640.390015  606.890015  606.940002  634.809998    9534300.0   \n",
      "4877  2021-10-06  639.869995  626.359985  628.179993  639.099976    4580400.0   \n",
      "4878  2021-10-07  646.840027  630.450012  642.229980  631.849976    3556900.0   \n",
      "4879  2021-10-08  643.799988  630.859985  634.169983  632.659973    3271100.0   \n",
      "4880  2021-10-11  639.419983  626.780029  633.200012  627.039978    2861200.0   \n",
      "\n",
      "       Adj Close  \n",
      "0       1.196429  \n",
      "1       1.210000  \n",
      "2       1.157143  \n",
      "3       1.103571  \n",
      "4       1.071429  \n",
      "...          ...  \n",
      "4876  634.809998  \n",
      "4877  639.099976  \n",
      "4878  631.849976  \n",
      "4879  632.659973  \n",
      "4880  627.039978  \n",
      "\n",
      "[4881 rows x 7 columns]\n"
     ]
    }
   ],
   "source": [
    "#No missing values, clean dataset; would do the following if dataset had missing values to fill in with the next value in the column\n",
    "droprows = netflix.dropna()\n",
    "print(netflix.shape, droprows.shape)\n",
    "\n",
    "dropcolumns = netflix.dropna(axis=1)\n",
    "print(netflix.shape, dropcolumns.shape)\n",
    "\n",
    "cleaned_data = netflix.fillna(method='bfill', axis=0).fillna(0)\n",
    "print(cleaned_data)"
   ]
  },
  {
   "cell_type": "code",
   "execution_count": 6,
   "id": "47132443-8d06-469f-a2c4-ae75f3754823",
   "metadata": {},
   "outputs": [
    {
     "data": {
      "image/png": "[encoded data removed]",
      "text/plain": [
       "<Figure size 432x288 with 1 Axes>"
      ]
     },
     "metadata": {
      "needs_background": "light"
     },
     "output_type": "display_data"
    }
   ],
   "source": [
    "#plotting closing price\n",
    "cleaned_data.plot(x=\"Date\", y=\"Close\", kind=\"line\", rot=45, title=\"Netflix Share Price Movements since IPO\")\n",
    "plt.show()"
   ]
  },
  {
   "cell_type": "code",
   "execution_count": 7,
   "id": "5a851d6d-8fad-4b34-8256-b207e669d686",
   "metadata": {},
   "outputs": [
    {
     "name": "stdout",
     "output_type": "stream",
     "text": [
      "            Date        High         Low        Open       Close      Volume  \\\n",
      "3930  2018-01-02  201.649994  195.419998  196.100006  201.070007  10966900.0   \n",
      "\n",
      "       Adj Close  \n",
      "3930  201.070007  \n"
     ]
    }
   ],
   "source": [
    "# Chart does not provide much insight. Now we will slice the dataset to only analyse the data since 2018 (last five years).\n",
    "# First we need to find the index of the date '2018-01-02'\n",
    "\n",
    "print(cleaned_data.loc[cleaned_data['Date'] == '2018-01-02'])"
   ]
  },
  {
   "cell_type": "code",
   "execution_count": 8,
   "id": "6540ed67-d366-4c56-bdcc-00b8f6e474f2",
   "metadata": {},
   "outputs": [],
   "source": [
    "# Now we will slice the dataframe from index 3930 and with columns 0 to 6\n",
    "\n",
    "netflix_analysis = cleaned_data.iloc[3930:, 0:6]"
   ]
  },
  {
   "cell_type": "code",
   "execution_count": 9,
   "id": "b09b97d3-0945-42e8-a013-5506c605561a",
   "metadata": {},
   "outputs": [
    {
     "data": {
      "image/png": "[encoded data removed]",
      "text/plain": [
       "<Figure size 432x288 with 1 Axes>"
      ]
     },
     "metadata": {
      "needs_background": "light"
     },
     "output_type": "display_data"
    }
   ],
   "source": [
    "# Now we will plot closing price of the last five years\n",
    "\n",
    "netflix_analysis.plot(x=\"Date\", y=\"Close\", kind=\"line\", rot=45, title=\"Netflix Share Price Movements since IPO\")\n",
    "plt.show()"
   ]
  },
  {
   "cell_type": "code",
   "execution_count": 10,
   "id": "e45c3d4b-6a39-43e3-b649-ecaa9ac571bd",
   "metadata": {},
   "outputs": [
    {
     "data": {
      "text/html": [
       "<div>\n",
       "<style scoped>\n",
       "    .dataframe tbody tr th:only-of-type {\n",
       "        vertical-align: middle;\n",
       "    }\n",
       "\n",
       "    .dataframe tbody tr th {\n",
       "        vertical-align: top;\n",
       "    }\n",
       "\n",
       "    .dataframe thead th {\n",
       "        text-align: right;\n",
       "    }\n",
       "</style>\n",
       "<table border=\"1\" class=\"dataframe\">\n",
       "  <thead>\n",
       "    <tr style=\"text-align: right;\">\n",
       "      <th></th>\n",
       "      <th>Date</th>\n",
       "      <th>S&amp;P500</th>\n",
       "    </tr>\n",
       "  </thead>\n",
       "  <tbody>\n",
       "    <tr>\n",
       "      <th>0</th>\n",
       "      <td>2012-04-23</td>\n",
       "      <td>1366.94</td>\n",
       "    </tr>\n",
       "    <tr>\n",
       "      <th>1</th>\n",
       "      <td>2012-04-24</td>\n",
       "      <td>1371.97</td>\n",
       "    </tr>\n",
       "    <tr>\n",
       "      <th>2</th>\n",
       "      <td>2012-04-25</td>\n",
       "      <td>1390.69</td>\n",
       "    </tr>\n",
       "    <tr>\n",
       "      <th>3</th>\n",
       "      <td>2012-04-26</td>\n",
       "      <td>1399.98</td>\n",
       "    </tr>\n",
       "    <tr>\n",
       "      <th>4</th>\n",
       "      <td>2012-04-27</td>\n",
       "      <td>1403.36</td>\n",
       "    </tr>\n",
       "    <tr>\n",
       "      <th>...</th>\n",
       "      <td>...</td>\n",
       "      <td>...</td>\n",
       "    </tr>\n",
       "    <tr>\n",
       "      <th>2513</th>\n",
       "      <td>2022-04-18</td>\n",
       "      <td>4391.69</td>\n",
       "    </tr>\n",
       "    <tr>\n",
       "      <th>2514</th>\n",
       "      <td>2022-04-19</td>\n",
       "      <td>4462.21</td>\n",
       "    </tr>\n",
       "    <tr>\n",
       "      <th>2515</th>\n",
       "      <td>2022-04-20</td>\n",
       "      <td>4459.45</td>\n",
       "    </tr>\n",
       "    <tr>\n",
       "      <th>2516</th>\n",
       "      <td>2022-04-21</td>\n",
       "      <td>4393.66</td>\n",
       "    </tr>\n",
       "    <tr>\n",
       "      <th>2517</th>\n",
       "      <td>2022-04-22</td>\n",
       "      <td>4271.78</td>\n",
       "    </tr>\n",
       "  </tbody>\n",
       "</table>\n",
       "<p>2518 rows × 2 columns</p>\n",
       "</div>"
      ],
      "text/plain": [
       "            Date   S&P500\n",
       "0     2012-04-23  1366.94\n",
       "1     2012-04-24  1371.97\n",
       "2     2012-04-25  1390.69\n",
       "3     2012-04-26  1399.98\n",
       "4     2012-04-27  1403.36\n",
       "...          ...      ...\n",
       "2513  2022-04-18  4391.69\n",
       "2514  2022-04-19  4462.21\n",
       "2515  2022-04-20  4459.45\n",
       "2516  2022-04-21  4393.66\n",
       "2517  2022-04-22  4271.78\n",
       "\n",
       "[2518 rows x 2 columns]"
      ]
     },
     "execution_count": 10,
     "metadata": {},
     "output_type": "execute_result"
    }
   ],
   "source": [
    "# The chart shows an increase in price over the last five years with some volatility throughout.\n",
    "# Now we need to understand how the stock performed against a benchmark to gain some real insight.\n",
    "# We will chose the S&P 500 as our benchmark and load the dataframe.\n",
    "\n",
    "sp500 = pd.read_csv(\"sp500_index.csv\")\n",
    "\n",
    "#preview data\n",
    "sp500"
   ]
  },
  {
   "cell_type": "code",
   "execution_count": 11,
   "id": "0a5e1cdc-2ca2-40fb-9de6-d7f8bf7efb89",
   "metadata": {},
   "outputs": [
    {
     "name": "stdout",
     "output_type": "stream",
     "text": [
      "<class 'pandas.core.frame.DataFrame'>\n",
      "RangeIndex: 2518 entries, 0 to 2517\n",
      "Data columns (total 2 columns):\n",
      " #   Column  Non-Null Count  Dtype  \n",
      "---  ------  --------------  -----  \n",
      " 0   Date    2518 non-null   object \n",
      " 1   S&P500  2518 non-null   float64\n",
      "dtypes: float64(1), object(1)\n",
      "memory usage: 39.5+ KB\n"
     ]
    }
   ],
   "source": [
    "sp500.info()"
   ]
  },
  {
   "cell_type": "code",
   "execution_count": 12,
   "id": "51388b6d-cab3-4aef-9fa8-d07079196115",
   "metadata": {},
   "outputs": [
    {
     "name": "stdout",
     "output_type": "stream",
     "text": [
      "Date      0\n",
      "S&P500    0\n",
      "dtype: int64\n"
     ]
    }
   ],
   "source": [
    "#Checking for any missing values\n",
    "missing_values_count = sp500.isnull().sum()\n",
    "print(missing_values_count)"
   ]
  },
  {
   "cell_type": "code",
   "execution_count": 13,
   "id": "53329447-9347-47df-94a6-920cad55e455",
   "metadata": {},
   "outputs": [
    {
     "name": "stdout",
     "output_type": "stream",
     "text": [
      "            Date   S&P500\n",
      "1433  2018-01-02  2695.81\n",
      "            Date   S&P500\n",
      "2383  2021-10-11  4361.19\n"
     ]
    }
   ],
   "source": [
    "# Our Netflix share price dataframe is from Dates 2018-01-01 to 2021-10-11. \n",
    "# No we need to find the index of these dates in the sp500 dataframe and slice it to make it comparable.\n",
    "\n",
    "print(sp500.loc[sp500['Date'] == '2018-01-02'])\n",
    "print(sp500.loc[sp500['Date'] == '2021-10-11'])"
   ]
  },
  {
   "cell_type": "code",
   "execution_count": 14,
   "id": "303e9caa-1840-4aef-9529-c3dd728b72b3",
   "metadata": {},
   "outputs": [
    {
     "data": {
      "text/html": [
       "<div>\n",
       "<style scoped>\n",
       "    .dataframe tbody tr th:only-of-type {\n",
       "        vertical-align: middle;\n",
       "    }\n",
       "\n",
       "    .dataframe tbody tr th {\n",
       "        vertical-align: top;\n",
       "    }\n",
       "\n",
       "    .dataframe thead th {\n",
       "        text-align: right;\n",
       "    }\n",
       "</style>\n",
       "<table border=\"1\" class=\"dataframe\">\n",
       "  <thead>\n",
       "    <tr style=\"text-align: right;\">\n",
       "      <th></th>\n",
       "      <th>Date</th>\n",
       "      <th>S&amp;P500</th>\n",
       "    </tr>\n",
       "  </thead>\n",
       "  <tbody>\n",
       "    <tr>\n",
       "      <th>1433</th>\n",
       "      <td>2018-01-02</td>\n",
       "      <td>2695.81</td>\n",
       "    </tr>\n",
       "    <tr>\n",
       "      <th>1434</th>\n",
       "      <td>2018-01-03</td>\n",
       "      <td>2713.06</td>\n",
       "    </tr>\n",
       "    <tr>\n",
       "      <th>1435</th>\n",
       "      <td>2018-01-04</td>\n",
       "      <td>2723.99</td>\n",
       "    </tr>\n",
       "    <tr>\n",
       "      <th>1436</th>\n",
       "      <td>2018-01-05</td>\n",
       "      <td>2743.15</td>\n",
       "    </tr>\n",
       "    <tr>\n",
       "      <th>1437</th>\n",
       "      <td>2018-01-08</td>\n",
       "      <td>2747.71</td>\n",
       "    </tr>\n",
       "    <tr>\n",
       "      <th>...</th>\n",
       "      <td>...</td>\n",
       "      <td>...</td>\n",
       "    </tr>\n",
       "    <tr>\n",
       "      <th>2379</th>\n",
       "      <td>2021-10-05</td>\n",
       "      <td>4345.72</td>\n",
       "    </tr>\n",
       "    <tr>\n",
       "      <th>2380</th>\n",
       "      <td>2021-10-06</td>\n",
       "      <td>4363.55</td>\n",
       "    </tr>\n",
       "    <tr>\n",
       "      <th>2381</th>\n",
       "      <td>2021-10-07</td>\n",
       "      <td>4399.76</td>\n",
       "    </tr>\n",
       "    <tr>\n",
       "      <th>2382</th>\n",
       "      <td>2021-10-08</td>\n",
       "      <td>4391.34</td>\n",
       "    </tr>\n",
       "    <tr>\n",
       "      <th>2383</th>\n",
       "      <td>2021-10-11</td>\n",
       "      <td>4361.19</td>\n",
       "    </tr>\n",
       "  </tbody>\n",
       "</table>\n",
       "<p>951 rows × 2 columns</p>\n",
       "</div>"
      ],
      "text/plain": [
       "            Date   S&P500\n",
       "1433  2018-01-02  2695.81\n",
       "1434  2018-01-03  2713.06\n",
       "1435  2018-01-04  2723.99\n",
       "1436  2018-01-05  2743.15\n",
       "1437  2018-01-08  2747.71\n",
       "...          ...      ...\n",
       "2379  2021-10-05  4345.72\n",
       "2380  2021-10-06  4363.55\n",
       "2381  2021-10-07  4399.76\n",
       "2382  2021-10-08  4391.34\n",
       "2383  2021-10-11  4361.19\n",
       "\n",
       "[951 rows x 2 columns]"
      ]
     },
     "execution_count": 14,
     "metadata": {},
     "output_type": "execute_result"
    }
   ],
   "source": [
    "# Now we will slice the dataframe from index 1433 to 2383.\n",
    "\n",
    "sp5001 = sp500.iloc[1433:2384, 0:]\n",
    "sp5001"
   ]
  },
  {
   "cell_type": "code",
   "execution_count": 15,
   "id": "25f93657-952d-401c-9046-2735a17573cd",
   "metadata": {},
   "outputs": [
    {
     "data": {
      "text/html": [
       "<div>\n",
       "<style scoped>\n",
       "    .dataframe tbody tr th:only-of-type {\n",
       "        vertical-align: middle;\n",
       "    }\n",
       "\n",
       "    .dataframe tbody tr th {\n",
       "        vertical-align: top;\n",
       "    }\n",
       "\n",
       "    .dataframe thead th {\n",
       "        text-align: right;\n",
       "    }\n",
       "</style>\n",
       "<table border=\"1\" class=\"dataframe\">\n",
       "  <thead>\n",
       "    <tr style=\"text-align: right;\">\n",
       "      <th></th>\n",
       "      <th>Date</th>\n",
       "      <th>Close</th>\n",
       "    </tr>\n",
       "  </thead>\n",
       "  <tbody>\n",
       "    <tr>\n",
       "      <th>3930</th>\n",
       "      <td>2018-01-02</td>\n",
       "      <td>201.070007</td>\n",
       "    </tr>\n",
       "    <tr>\n",
       "      <th>3931</th>\n",
       "      <td>2018-01-03</td>\n",
       "      <td>205.050003</td>\n",
       "    </tr>\n",
       "    <tr>\n",
       "      <th>3932</th>\n",
       "      <td>2018-01-04</td>\n",
       "      <td>205.630005</td>\n",
       "    </tr>\n",
       "    <tr>\n",
       "      <th>3933</th>\n",
       "      <td>2018-01-05</td>\n",
       "      <td>209.990005</td>\n",
       "    </tr>\n",
       "    <tr>\n",
       "      <th>3934</th>\n",
       "      <td>2018-01-08</td>\n",
       "      <td>212.050003</td>\n",
       "    </tr>\n",
       "    <tr>\n",
       "      <th>...</th>\n",
       "      <td>...</td>\n",
       "      <td>...</td>\n",
       "    </tr>\n",
       "    <tr>\n",
       "      <th>4876</th>\n",
       "      <td>2021-10-05</td>\n",
       "      <td>634.809998</td>\n",
       "    </tr>\n",
       "    <tr>\n",
       "      <th>4877</th>\n",
       "      <td>2021-10-06</td>\n",
       "      <td>639.099976</td>\n",
       "    </tr>\n",
       "    <tr>\n",
       "      <th>4878</th>\n",
       "      <td>2021-10-07</td>\n",
       "      <td>631.849976</td>\n",
       "    </tr>\n",
       "    <tr>\n",
       "      <th>4879</th>\n",
       "      <td>2021-10-08</td>\n",
       "      <td>632.659973</td>\n",
       "    </tr>\n",
       "    <tr>\n",
       "      <th>4880</th>\n",
       "      <td>2021-10-11</td>\n",
       "      <td>627.039978</td>\n",
       "    </tr>\n",
       "  </tbody>\n",
       "</table>\n",
       "<p>951 rows × 2 columns</p>\n",
       "</div>"
      ],
      "text/plain": [
       "            Date       Close\n",
       "3930  2018-01-02  201.070007\n",
       "3931  2018-01-03  205.050003\n",
       "3932  2018-01-04  205.630005\n",
       "3933  2018-01-05  209.990005\n",
       "3934  2018-01-08  212.050003\n",
       "...          ...         ...\n",
       "4876  2021-10-05  634.809998\n",
       "4877  2021-10-06  639.099976\n",
       "4878  2021-10-07  631.849976\n",
       "4879  2021-10-08  632.659973\n",
       "4880  2021-10-11  627.039978\n",
       "\n",
       "[951 rows x 2 columns]"
      ]
     },
     "execution_count": 15,
     "metadata": {},
     "output_type": "execute_result"
    }
   ],
   "source": [
    "# We only need columns 'Date' and 'Close'in our netflix dataframe; so creating a new datafrae.\n",
    "\n",
    "netflix1 = netflix_analysis[['Date', 'Close']].copy()\n",
    "netflix1"
   ]
  },
  {
   "cell_type": "code",
   "execution_count": 16,
   "id": "169ba561-aa63-43e2-bc4b-8b4f605d255c",
   "metadata": {},
   "outputs": [],
   "source": [
    "# Now we join the two dataframes using the merge function.\n",
    "\n",
    "netflix2 = netflix1.merge(sp5001)"
   ]
  },
  {
   "cell_type": "code",
   "execution_count": 17,
   "id": "6955df4a-22ad-4bb8-b0c1-64a8091d5975",
   "metadata": {},
   "outputs": [],
   "source": [
    "# Renaming columns for clarity\n",
    "\n",
    "netflix2.rename(columns = {'Close':'Netflix_share_price'}, inplace = True)\n",
    "netflix2.rename(columns = {'S&P500':'SP500'}, inplace = True)\n"
   ]
  },
  {
   "cell_type": "code",
   "execution_count": 18,
   "id": "ec607157-d8d4-4280-8714-11b9c4196a21",
   "metadata": {},
   "outputs": [
    {
     "data": {
      "image/png": "[encoded data removed]",
      "text/plain": [
       "<Figure size 432x288 with 1 Axes>"
      ]
     },
     "metadata": {
      "needs_background": "light"
     },
     "output_type": "display_data"
    }
   ],
   "source": [
    "# plotting on graph\n",
    "\n",
    "netflix2.plot()\n",
    "plt.show()"
   ]
  },
  {
   "cell_type": "code",
   "execution_count": 19,
   "id": "0803490e-5325-4ac4-b668-df223618f9ca",
   "metadata": {},
   "outputs": [
    {
     "data": {
      "text/html": [
       "<div>\n",
       "<style scoped>\n",
       "    .dataframe tbody tr th:only-of-type {\n",
       "        vertical-align: middle;\n",
       "    }\n",
       "\n",
       "    .dataframe tbody tr th {\n",
       "        vertical-align: top;\n",
       "    }\n",
       "\n",
       "    .dataframe thead th {\n",
       "        text-align: right;\n",
       "    }\n",
       "</style>\n",
       "<table border=\"1\" class=\"dataframe\">\n",
       "  <thead>\n",
       "    <tr style=\"text-align: right;\">\n",
       "      <th></th>\n",
       "      <th>Date</th>\n",
       "      <th>Netflix_share_price</th>\n",
       "      <th>SP500</th>\n",
       "      <th>Netflix_daily_price_change</th>\n",
       "      <th>SP500_daily_price_change</th>\n",
       "    </tr>\n",
       "  </thead>\n",
       "  <tbody>\n",
       "    <tr>\n",
       "      <th>0</th>\n",
       "      <td>2018-01-02</td>\n",
       "      <td>201.070007</td>\n",
       "      <td>2695.81</td>\n",
       "      <td>NaN</td>\n",
       "      <td>NaN</td>\n",
       "    </tr>\n",
       "    <tr>\n",
       "      <th>1</th>\n",
       "      <td>2018-01-03</td>\n",
       "      <td>205.050003</td>\n",
       "      <td>2713.06</td>\n",
       "      <td>0.019794</td>\n",
       "      <td>0.006399</td>\n",
       "    </tr>\n",
       "    <tr>\n",
       "      <th>2</th>\n",
       "      <td>2018-01-04</td>\n",
       "      <td>205.630005</td>\n",
       "      <td>2723.99</td>\n",
       "      <td>0.002829</td>\n",
       "      <td>0.004029</td>\n",
       "    </tr>\n",
       "    <tr>\n",
       "      <th>3</th>\n",
       "      <td>2018-01-05</td>\n",
       "      <td>209.990005</td>\n",
       "      <td>2743.15</td>\n",
       "      <td>0.021203</td>\n",
       "      <td>0.007034</td>\n",
       "    </tr>\n",
       "    <tr>\n",
       "      <th>4</th>\n",
       "      <td>2018-01-08</td>\n",
       "      <td>212.050003</td>\n",
       "      <td>2747.71</td>\n",
       "      <td>0.009810</td>\n",
       "      <td>0.001662</td>\n",
       "    </tr>\n",
       "    <tr>\n",
       "      <th>...</th>\n",
       "      <td>...</td>\n",
       "      <td>...</td>\n",
       "      <td>...</td>\n",
       "      <td>...</td>\n",
       "      <td>...</td>\n",
       "    </tr>\n",
       "    <tr>\n",
       "      <th>946</th>\n",
       "      <td>2021-10-05</td>\n",
       "      <td>634.809998</td>\n",
       "      <td>4345.72</td>\n",
       "      <td>0.052142</td>\n",
       "      <td>0.010524</td>\n",
       "    </tr>\n",
       "    <tr>\n",
       "      <th>947</th>\n",
       "      <td>2021-10-06</td>\n",
       "      <td>639.099976</td>\n",
       "      <td>4363.55</td>\n",
       "      <td>0.006758</td>\n",
       "      <td>0.004103</td>\n",
       "    </tr>\n",
       "    <tr>\n",
       "      <th>948</th>\n",
       "      <td>2021-10-07</td>\n",
       "      <td>631.849976</td>\n",
       "      <td>4399.76</td>\n",
       "      <td>-0.011344</td>\n",
       "      <td>0.008298</td>\n",
       "    </tr>\n",
       "    <tr>\n",
       "      <th>949</th>\n",
       "      <td>2021-10-08</td>\n",
       "      <td>632.659973</td>\n",
       "      <td>4391.34</td>\n",
       "      <td>0.001282</td>\n",
       "      <td>-0.001914</td>\n",
       "    </tr>\n",
       "    <tr>\n",
       "      <th>950</th>\n",
       "      <td>2021-10-11</td>\n",
       "      <td>627.039978</td>\n",
       "      <td>4361.19</td>\n",
       "      <td>-0.008883</td>\n",
       "      <td>-0.006866</td>\n",
       "    </tr>\n",
       "  </tbody>\n",
       "</table>\n",
       "<p>951 rows × 5 columns</p>\n",
       "</div>"
      ],
      "text/plain": [
       "           Date  Netflix_share_price    SP500  Netflix_daily_price_change  \\\n",
       "0    2018-01-02           201.070007  2695.81                         NaN   \n",
       "1    2018-01-03           205.050003  2713.06                    0.019794   \n",
       "2    2018-01-04           205.630005  2723.99                    0.002829   \n",
       "3    2018-01-05           209.990005  2743.15                    0.021203   \n",
       "4    2018-01-08           212.050003  2747.71                    0.009810   \n",
       "..          ...                  ...      ...                         ...   \n",
       "946  2021-10-05           634.809998  4345.72                    0.052142   \n",
       "947  2021-10-06           639.099976  4363.55                    0.006758   \n",
       "948  2021-10-07           631.849976  4399.76                   -0.011344   \n",
       "949  2021-10-08           632.659973  4391.34                    0.001282   \n",
       "950  2021-10-11           627.039978  4361.19                   -0.008883   \n",
       "\n",
       "     SP500_daily_price_change  \n",
       "0                         NaN  \n",
       "1                    0.006399  \n",
       "2                    0.004029  \n",
       "3                    0.007034  \n",
       "4                    0.001662  \n",
       "..                        ...  \n",
       "946                  0.010524  \n",
       "947                  0.004103  \n",
       "948                  0.008298  \n",
       "949                 -0.001914  \n",
       "950                 -0.006866  \n",
       "\n",
       "[951 rows x 5 columns]"
      ]
     },
     "execution_count": 19,
     "metadata": {},
     "output_type": "execute_result"
    }
   ],
   "source": [
    "# Prices of Netflix and S&P500 are not comparable as we can see above. The chart does not give much insight.\n",
    "# Let's create two new columns for the daily price changes which would enable us to analyse the movements.\n",
    "\n",
    "netflix2[\"Netflix_daily_price_change\"]= netflix2.Netflix_share_price.pct_change(1)\n",
    "netflix2[\"SP500_daily_price_change\"]= netflix2.SP500.pct_change(1)\n",
    "netflix2"
   ]
  },
  {
   "cell_type": "code",
   "execution_count": 24,
   "id": "689470ef-e111-4365-91f4-1fc819d0ee12",
   "metadata": {},
   "outputs": [
    {
     "data": {
      "image/png": "[encoded data removed]",
      "text/plain": [
       "<Figure size 432x288 with 1 Axes>"
      ]
     },
     "metadata": {
      "needs_background": "light"
     },
     "output_type": "display_data"
    }
   ],
   "source": [
    "#plotting daily returns\n",
    "\n",
    "plt.plot(netflix2.Date, netflix2.Netflix_daily_price_change)\n",
    "plt.plot(netflix2.Date, netflix2.SP500_daily_price_change)\n",
    "plt.legend(['Netflix', 'S&P500'])\n",
    "plt.xlabel('Date')\n",
    "plt.ylabel('Daily returns')\n",
    "plt.title('Daily returns for Netflix and S&P500 over the last 5 years')\n",
    "plt.show()"
   ]
  },
  {
   "cell_type": "code",
   "execution_count": null,
   "id": "aca2b167-7db3-48c4-accc-4a9217a0bbb3",
   "metadata": {},
   "outputs": [],
   "source": []
  }
 ],
 "metadata": {
  "kernelspec": {
   "display_name": "Python 3 (ipykernel)",
   "language": "python",
   "name": "python3"
  },
  "language_info": {
   "codemirror_mode": {
    "name": "ipython",
    "version": 3
   },
   "file_extension": ".py",
   "mimetype": "text/x-python",
   "name": "python",
   "nbconvert_exporter": "python",
   "pygments_lexer": "ipython3",
   "version": "3.9.7"
  }
 },
 "nbformat": 4,
 "nbformat_minor": 5
}
